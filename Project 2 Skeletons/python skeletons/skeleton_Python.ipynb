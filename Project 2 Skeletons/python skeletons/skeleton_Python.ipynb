{
 "cells": [
  {
   "cell_type": "code",
   "execution_count": null,
   "id": "76058266-edc1-431b-ba4c-9ca53228385f",
   "metadata": {},
   "outputs": [],
   "source": [
    "import numpy as np\n",
    "import cvxpy as cp\n",
    "import matplotlib.pyplot as plt\n",
    "import time"
   ]
  },
  {
   "cell_type": "markdown",
   "id": "d64ffdfd-0d19-483d-a0db-828fda339b2a",
   "metadata": {
    "tags": []
   },
   "source": [
    "# The case for Survival Analysis"
   ]
  },
  {
   "cell_type": "code",
   "execution_count": null,
   "id": "7a291cdf-c1a4-440f-abe4-b9b6247b17ff",
   "metadata": {},
   "outputs": [],
   "source": [
    "def mean_absolute_error(y_true, y_pred):\n",
    "    return np.abs(y_true-y_pred).mean()"
   ]
  },
  {
   "cell_type": "code",
   "execution_count": null,
   "id": "fe383f09-9455-4a8d-b4e8-83a5da37ec79",
   "metadata": {},
   "outputs": [],
   "source": [
    "# load the data\n",
    "X_train = np.load('X_train.npy')\n",
    "y_train = np.load('y_train.npy')\n",
    "z_train = np.load('z_train.npy')\n",
    "\n",
    "X_test = np.load('X_test.npy')\n",
    "y_test = np.load('y_test.npy')\n",
    "z_test = np.load('z_test.npy')\n"
   ]
  },
  {
   "cell_type": "code",
   "execution_count": null,
   "id": "a8ea42a6-d713-4f6b-a8ed-a722f9c356ad",
   "metadata": {},
   "outputs": [],
   "source": [
    "plt.hist(y_train[z_train==0], bins = 20, alpha=0.5, label='Not Churned')\n",
    "plt.hist(y_train[z_train==1], bins = 20, alpha=0.5, label='Churned')\n",
    "plt.legend()\n",
    "plt.title('Histogram of Survival Times');"
   ]
  },
  {
   "cell_type": "code",
   "execution_count": null,
   "id": "d2bae54e-1932-4fdf-a750-3b14d858c147",
   "metadata": {},
   "outputs": [],
   "source": [
    "# metrics for evaluation\n",
    "def plot_results(y, prediction, z, save=False):\n",
    "    plt.figure(figsize=(20,8))\n",
    "    plt.subplot(131)\n",
    "    plt.scatter(prediction, y, s=1)\n",
    "    plt.xlabel('predicted')\n",
    "    plt.ylabel('actual')\n",
    "    plt.plot([0,70],[0,70], color='C1')\n",
    "    plt.title(f'MAE {mean_absolute_error(y, prediction)}')\n",
    "\n",
    "    plt.subplot(132)\n",
    "    plt.scatter(prediction[z==1], y[z==1], s=1)\n",
    "    plt.xlabel('predicted')\n",
    "    plt.ylabel('actual')\n",
    "    plt.plot([0,70],[0,70], color='C1')\n",
    "    plt.title(f'MAE (Churned) {mean_absolute_error(y[z==1], prediction[z==1])}')\n",
    "\n",
    "    plt.subplot(133)\n",
    "    plt.scatter(prediction[z==0], y[z==0], s=1)\n",
    "    plt.xlabel('predicted')\n",
    "    plt.ylabel('actual')\n",
    "    plt.plot([0,70],[0,70], color='C1')\n",
    "    plt.title(f'MAE (Not Churned) {mean_absolute_error(y[z==0], prediction[z==0])}');\n",
    "    if save:\n",
    "        plt.tight_layout()\n",
    "        timestamp = time.time()\n",
    "        plt.savefig(f'comparison_{timestamp}.pdf')\n",
    "        print(f'saved as comparison_{timestamp}.pdf')\n",
    "    plt.show()\n",
    "    plt.figure(figsize=(16,6))\n",
    "    plt.subplot(121)\n",
    "    plt.hist((y-prediction)[z==0]);\n",
    "    plt.xlabel('y-f(x)')\n",
    "    plt.title('Error if not Churned')\n",
    "    plt.gca().axvline(x=0, color='grey', linewidth=1)\n",
    "    plt.subplot(122)\n",
    "    plt.hist((y-prediction)[z==1]);\n",
    "    plt.xlabel('y-f(x)')\n",
    "    plt.title('Error if Churned')\n",
    "    plt.gca().axvline(x=0, color='grey', linewidth=1)\n",
    "    if save:\n",
    "        plt.tight_layout()\n",
    "        timestamp = time.time()\n",
    "        plt.savefig(f'error_{timestamp}.pdf')\n",
    "        print(f'saved as error_{timestamp}.pdf')\n",
    "    plt.show()\n",
    "    \n",
    "def compute_metrics(y,prediction, z):\n",
    "    died_p = np.array(prediction[z==1])\n",
    "    died_y = np.array(y[z==1])\n",
    "    cindex = ((np.expand_dims(died_y,0)<=np.expand_dims(y,1))&(np.expand_dims(died_p,0)<=np.expand_dims(prediction,1))).sum()/(np.expand_dims(died_y,0)<=np.expand_dims(y,1)).sum()\n",
    "    print(f'C-Index: {cindex}')\n",
    "    underestimated = np.mean((prediction-y)[(prediction<y)&(z==1)])\n",
    "    print(f'Average Underestimated Survival (Churned): {-underestimated}')\n",
    "    underestimated = np.mean((prediction-y)[(prediction<y)&(z==0)])\n",
    "    print(f'Average Underestimated Survival (Not Churned): {-underestimated}')"
   ]
  },
  {
   "cell_type": "markdown",
   "id": "c6598f23-fd43-423e-998b-bca6d316b262",
   "metadata": {
    "tags": []
   },
   "source": [
    "# Linear Survival SVM"
   ]
  },
  {
   "cell_type": "code",
   "execution_count": null,
   "id": "5fb6ee25-c38c-4dba-97d3-f61c7617735b",
   "metadata": {},
   "outputs": [],
   "source": [
    "# get data, which is comparable: for a given y_i, return X_j(i), y_j(i)\n",
    "def get_comparable_data(y):\n",
    "    comparable_y = np.max(observed_y[observed_y<y])\n",
    "    idx = np.random.randint((observed_y==comparable_y).sum())\n",
    "    return observed_X[observed_y==comparable_y][idx], observed_y[observed_y==comparable_y][idx]"
   ]
  },
  {
   "cell_type": "code",
   "execution_count": null,
   "id": "4ae0fa4e-d257-453a-848e-13e13ae602d2",
   "metadata": {},
   "outputs": [],
   "source": [
    "# define y_comp, y_comp_bar: \n",
    "# y_comp = y_i for (i,j)in E\n",
    "# y_comp_bar = y_j for (i,j)in E\n",
    "# define X_comp, X_comp_bar: \n",
    "# X_comp = x_i for (i,j) in E\n",
    "# X_comp_bar = x_j for (i,j) in E\n",
    "\n",
    "observed_X = X_train[z_train==1]\n",
    "observed_y = y_train[z_train==1]\n",
    "\n",
    "y_comp = y_train[y_train>1]\n",
    "X_comp = X_train[y_train>1]\n",
    "data_comp_bar = list(map(get_comparable_data, y_comp))\n",
    "\n",
    "X_comp_bar = np.vstack([dcb[0] for dcb in data_comp_bar])\n",
    "y_comp_bar = np.hstack([dcb[1] for dcb in data_comp_bar])"
   ]
  },
  {
   "cell_type": "code",
   "execution_count": null,
   "id": "a40e6540-2fdf-49ce-85a3-e7d56809c5e8",
   "metadata": {},
   "outputs": [],
   "source": [
    "### YOUR CODE HERE\n",
    "...\n",
    "### FORMULATE AND SOLVE DM"
   ]
  },
  {
   "cell_type": "code",
   "execution_count": null,
   "id": "edb3de6f-de12-4c5e-8117-0ddfc5e7f10a",
   "metadata": {},
   "outputs": [],
   "source": [
    "### YOUR CODE HERE\n",
    "b = ...\n",
    "prediction = ...\n",
    "### FIND THE PREDICTION ON THE TRAINING SET"
   ]
  },
  {
   "cell_type": "code",
   "execution_count": null,
   "id": "03ea2937-5c0e-46a8-88f7-632ec4b11d08",
   "metadata": {},
   "outputs": [],
   "source": [
    "print('Training Performance')\n",
    "# plot the training performance\n",
    "plot_results(y_train, prediction, z_train, save=False)\n",
    "compute_metrics(y_train,prediction, z_train)"
   ]
  },
  {
   "cell_type": "code",
   "execution_count": null,
   "id": "55087e71-d719-4b38-bf9a-9db06498a839",
   "metadata": {},
   "outputs": [],
   "source": [
    "### YOUR CODE HERE\n",
    "prediction = ...\n",
    "### FIND THE PREDICTION ON THE TEST SET"
   ]
  },
  {
   "cell_type": "code",
   "execution_count": null,
   "id": "436ef473-5dd3-4227-8ae4-3f4b8f46a935",
   "metadata": {},
   "outputs": [],
   "source": [
    "print('Testing Performance')\n",
    "# plot the test performance\n",
    "plot_results(y_test, prediction, z_test, save=False)\n",
    "compute_metrics(y_test, prediction, z_test)"
   ]
  },
  {
   "cell_type": "markdown",
   "id": "409d49bc-5288-406c-8a82-59ad4cf04708",
   "metadata": {
    "tags": []
   },
   "source": [
    "# Simple MAE Regression"
   ]
  },
  {
   "cell_type": "code",
   "execution_count": null,
   "id": "ebd5cf3e-1ef1-4fac-a491-c40c5fb994ab",
   "metadata": {},
   "outputs": [],
   "source": [
    "### YOUR CODE HERE\n",
    "...\n",
    "### SOLVE THE MAE REGRESSION PROBLEM"
   ]
  },
  {
   "cell_type": "code",
   "execution_count": null,
   "id": "32677e41-1b07-4556-aaa4-ddc0129e5dc2",
   "metadata": {},
   "outputs": [],
   "source": [
    "### YOUR CODE HERE\n",
    "prediction_reg = ...\n",
    "### FIND THE PREDICTION ON THE TRAINING SET"
   ]
  },
  {
   "cell_type": "code",
   "execution_count": null,
   "id": "a53ed438-13b9-4d81-965a-4d4f93e4849e",
   "metadata": {},
   "outputs": [],
   "source": [
    "print('Training Performance')\n",
    "plot_results(y_train, prediction_reg, z_train, save=False)\n",
    "compute_metrics(y_train, prediction_reg, z_train)"
   ]
  },
  {
   "cell_type": "code",
   "execution_count": null,
   "id": "4a723306-6af6-4976-a34f-055450c5e8bc",
   "metadata": {},
   "outputs": [],
   "source": [
    "### YOUR CODE HERE\n",
    "prediction_reg = ...\n",
    "### FIND THE PREDICTION ON THE TRAINING SET"
   ]
  },
  {
   "cell_type": "code",
   "execution_count": null,
   "id": "075d6987-5952-4189-aa67-fac9d8dcee07",
   "metadata": {},
   "outputs": [],
   "source": [
    "print('Testing Performance')\n",
    "plot_results(y_test, prediction_reg, z_test, save=False)\n",
    "compute_metrics(y_test, prediction_reg, z_test)"
   ]
  },
  {
   "cell_type": "markdown",
   "id": "a448e1dc-3a4e-4dc8-b63c-535e44f6d6dd",
   "metadata": {
    "tags": []
   },
   "source": [
    "# Kernelized Version"
   ]
  },
  {
   "cell_type": "code",
   "execution_count": null,
   "id": "786401cc-83ec-436f-be3e-cacab41e84bb",
   "metadata": {},
   "outputs": [],
   "source": [
    "# sigma^2 to use for RBF Kernel\n",
    "sigma2 = 1.5"
   ]
  },
  {
   "cell_type": "code",
   "execution_count": null,
   "id": "fa406978-19ed-474d-bc10-bfd3ca445e26",
   "metadata": {},
   "outputs": [],
   "source": [
    "# function to compute RBF Kernel Matrix between X1 and X2\n",
    "def compute_rbf(X1, X2, sigma2=100):\n",
    "    return np.exp(-((np.expand_dims(X2, 0)- np.expand_dims(X1, 1))**2).sum(axis=2)/(2*sigma2))"
   ]
  },
  {
   "cell_type": "code",
   "execution_count": null,
   "id": "a2b0bdaa-6065-4eaa-b1ca-eadc39330da1",
   "metadata": {},
   "outputs": [],
   "source": [
    "### YOUR CODE HERE\n",
    "...\n",
    "### FORMULATE AND SOLVE DM-KERNELIZED"
   ]
  },
  {
   "cell_type": "code",
   "execution_count": null,
   "id": "7aeaae95-013f-41e5-93c5-d6ef88efe066",
   "metadata": {},
   "outputs": [],
   "source": [
    "### YOUR CODE HERE\n",
    "b = ...\n",
    "prediction_rbf = ...\n",
    "### FIND THE PREDICTION ON THE TRAINING SET"
   ]
  },
  {
   "cell_type": "code",
   "execution_count": null,
   "id": "c1630c2e-2bdb-485a-a993-b37d38b1fec3",
   "metadata": {
    "tags": []
   },
   "outputs": [],
   "source": [
    "print('Training Performance')\n",
    "# training results\n",
    "plot_results(y_train, prediction_rbf, z_train, save=False)\n",
    "compute_metrics(y_train, prediction_rbf, z_train)"
   ]
  },
  {
   "cell_type": "code",
   "execution_count": null,
   "id": "f5b8a332-83b5-48f6-a9e2-0760810bdeae",
   "metadata": {},
   "outputs": [],
   "source": [
    "### YOUR CODE HERE\n",
    "prediction_rbf = ...\n",
    "### FIND THE PREDICTION ON THE TEST SET"
   ]
  },
  {
   "cell_type": "code",
   "execution_count": null,
   "id": "6f2fda2f-4a8e-47ca-afac-43e4b007d0c5",
   "metadata": {},
   "outputs": [],
   "source": [
    "print('Testing Performance')\n",
    "# testing results\n",
    "plot_results(y_test, prediction_rbf, z_test, save=False)\n",
    "compute_metrics(y_test, prediction_rbf, z_test)"
   ]
  },
  {
   "cell_type": "code",
   "execution_count": null,
   "id": "e5627c76-c5a6-409c-9d20-ff0456e93bab",
   "metadata": {},
   "outputs": [],
   "source": []
  }
 ],
 "metadata": {
  "kernelspec": {
   "display_name": "Python 3 (ipykernel)",
   "language": "python",
   "name": "python3"
  },
  "language_info": {
   "codemirror_mode": {
    "name": "ipython",
    "version": 3
   },
   "file_extension": ".py",
   "mimetype": "text/x-python",
   "name": "python",
   "nbconvert_exporter": "python",
   "pygments_lexer": "ipython3",
   "version": "3.9.12"
  }
 },
 "nbformat": 4,
 "nbformat_minor": 5
}
