{
 "cells": [
  {
   "cell_type": "code",
   "execution_count": 1,
   "id": "fe08f639",
   "metadata": {},
   "outputs": [],
   "source": [
    "import numpy as np\n",
    "import cvxpy as cp\n",
    "import matplotlib.pyplot as plt\n",
    "import scipy.io as sio\n",
    "from numpy import linalg as LA\n",
    "# you can use pip to install/update missing packages. "
   ]
  },
  {
   "cell_type": "code",
   "execution_count": 2,
   "id": "151f15bd",
   "metadata": {},
   "outputs": [],
   "source": [
    "## Load the data \n",
    "\n",
    "# Load the partially observed (Rpartial) rating matrices (xxuyyi means #xx users #yy items)\n",
    "data = sio.loadmat('100u10icompl.mat')\n",
    "Rcompl = data['Rcompl']\n",
    "\n",
    "[m,n] = np.shape(Rcompl)"
   ]
  },
  {
   "cell_type": "code",
   "execution_count": 3,
   "id": "99a98aa6",
   "metadata": {},
   "outputs": [
    {
     "ename": "SyntaxError",
     "evalue": "invalid syntax (1561863539.py, line 19)",
     "output_type": "error",
     "traceback": [
      "\u001b[0;36m  Cell \u001b[0;32mIn [3], line 19\u001b[0;36m\u001b[0m\n\u001b[0;31m    X =\u001b[0m\n\u001b[0m        ^\u001b[0m\n\u001b[0;31mSyntaxError\u001b[0m\u001b[0;31m:\u001b[0m invalid syntax\n"
     ]
    }
   ],
   "source": [
    "## Question 5 (ii) (use cvxpy, make sure to use cp. and avoid np.)\n",
    "\n",
    "Zi = 19\n",
    "Error = np.zeros((Zi,1)) \n",
    "for z in range(0,Zi):\n",
    "    # print something to make sure you are making progress\n",
    "    # print(z)\n",
    "    Rpartial = np.zeros((m,n))\n",
    "    p = (z+1)*0.05\n",
    "    for i in range(0,m):\n",
    "        for j in range(0,n):\n",
    "            if np.random.rand(1)>=1-p: \n",
    "                Rpartial[i,j]=Rcompl[i,j]\n",
    "\n",
    "    # Define the decision variables: \n",
    "    # Note! X is not symmetric. \n",
    "    # Without the 'full' constraint: wrong. \n",
    "\n",
    "    X = \n",
    "    Lambda11 = \n",
    "    Lambda22 = \n",
    "\n",
    "    # Define the objective function:\n",
    "    # Note! You cannot always group the Lambda matrices (dimension might differ).\n",
    "    obj = \n",
    "\n",
    "    # Define the constraints:\n",
    "    # Constraints enforcing observed ratings (use Rpartial) \n",
    "    # that is, if Rij==0, the value is \"not observed\". \n",
    "    constr = []\n",
    "\n",
    "    # Define the constraints enforcing the range beween 1 and 5\n",
    "\n",
    "    # Define the semidefinite constraint\n",
    "\n",
    "    ## Solve the SDP\n",
    "\n",
    "    # Make sure you have a SDP solver   \n",
    "    # 100u20i can take a few minutes (tic-toc measures the time) \n",
    "    # Set 'verbose' to 1 if you want to see the progress\n",
    "    prob = cp.Problem(obj, constr)\n",
    "    prob.solve(verbose=False)\n",
    "    \n",
    "    # Retrieve and round the optimal solution\n",
    "    # Convice yourself of the validity of the rounding. \n",
    "    Xopt_real = X.value\n",
    "    Xopt_int = \n",
    "    Error[z] =  \n"
   ]
  },
  {
   "cell_type": "code",
   "execution_count": 4,
   "id": "85642773",
   "metadata": {},
   "outputs": [
    {
     "ename": "NameError",
     "evalue": "name 'Zi' is not defined",
     "output_type": "error",
     "traceback": [
      "\u001b[0;31m---------------------------------------------------------------------------\u001b[0m",
      "\u001b[0;31mNameError\u001b[0m                                 Traceback (most recent call last)",
      "Cell \u001b[0;32mIn [4], line 2\u001b[0m\n\u001b[1;32m      1\u001b[0m \u001b[38;5;66;03m# Plot the results \u001b[39;00m\n\u001b[0;32m----> 2\u001b[0m p \u001b[38;5;241m=\u001b[39m np\u001b[38;5;241m.\u001b[39mlinspace(\u001b[38;5;241m0.05\u001b[39m, \u001b[38;5;241m0.95\u001b[39m, num\u001b[38;5;241m=\u001b[39m\u001b[43mZi\u001b[49m)   \n\u001b[1;32m      3\u001b[0m plt\u001b[38;5;241m.\u001b[39mplot(p, Error,marker\u001b[38;5;241m=\u001b[39m\u001b[38;5;124m\"\u001b[39m\u001b[38;5;124mo\u001b[39m\u001b[38;5;124m\"\u001b[39m, color\u001b[38;5;241m=\u001b[39m\u001b[38;5;124m\"\u001b[39m\u001b[38;5;124mblack\u001b[39m\u001b[38;5;124m\"\u001b[39m)\n\u001b[1;32m      4\u001b[0m plt\u001b[38;5;241m.\u001b[39mxlabel(\u001b[38;5;124m'\u001b[39m\u001b[38;5;124mpercentage observed\u001b[39m\u001b[38;5;124m'\u001b[39m,fontsize\u001b[38;5;241m=\u001b[39m\u001b[38;5;241m20\u001b[39m)\n",
      "\u001b[0;31mNameError\u001b[0m: name 'Zi' is not defined"
     ]
    }
   ],
   "source": [
    "# Plot the results \n",
    "p = np.linspace(0.05, 0.95, num=Zi)   \n",
    "plt.plot(p, Error,marker=\"o\", color=\"black\")\n",
    "plt.xlabel('percentage observed',fontsize=20)\n",
    "plt.ylabel('relative error',fontsize=20)\n",
    "plt.grid(True)\n",
    "plt.show()\n"
   ]
  },
  {
   "cell_type": "code",
   "execution_count": 5,
   "id": "fe89c65a",
   "metadata": {},
   "outputs": [
    {
     "ename": "NameError",
     "evalue": "name 'Xopt_int' is not defined",
     "output_type": "error",
     "traceback": [
      "\u001b[0;31m---------------------------------------------------------------------------\u001b[0m",
      "\u001b[0;31mNameError\u001b[0m                                 Traceback (most recent call last)",
      "Cell \u001b[0;32mIn [5], line 2\u001b[0m\n\u001b[1;32m      1\u001b[0m \u001b[38;5;66;03m# You can see that we indeed recover Rcompl\u001b[39;00m\n\u001b[0;32m----> 2\u001b[0m \u001b[38;5;28mprint\u001b[39m(\u001b[43mXopt_int\u001b[49m)\n",
      "\u001b[0;31mNameError\u001b[0m: name 'Xopt_int' is not defined"
     ]
    }
   ],
   "source": [
    "# You can see that we indeed recover Rcompl\n",
    "print(Xopt_int)"
   ]
  }
 ],
 "metadata": {
  "kernelspec": {
   "display_name": "Python 3 (ipykernel)",
   "language": "python",
   "name": "python3"
  },
  "language_info": {
   "codemirror_mode": {
    "name": "ipython",
    "version": 3
   },
   "file_extension": ".py",
   "mimetype": "text/x-python",
   "name": "python",
   "nbconvert_exporter": "python",
   "pygments_lexer": "ipython3",
   "version": "3.8.10"
  }
 },
 "nbformat": 4,
 "nbformat_minor": 5
}
