{
 "cells": [
  {
   "cell_type": "code",
   "execution_count": 1,
   "id": "fe08f639",
   "metadata": {},
   "outputs": [],
   "source": [
    "import numpy as np\n",
    "import cvxpy as cp\n",
    "import matplotlib.pyplot as plt\n",
    "import scipy.io as sio\n",
    "# you can use pip to install/update missing packages. "
   ]
  },
  {
   "cell_type": "code",
   "execution_count": 2,
   "id": "151f15bd",
   "metadata": {},
   "outputs": [],
   "source": [
    "## Load the data \n",
    "\n",
    "# Load the partially observed (Rpartial) rating matrices (xxuyyi means #xx users #yy items)\n",
    "data = sio.loadmat('100u20ipartial.mat')\n",
    "Rpartial = data['Rpartial']\n",
    "\n",
    "# The data corresponds to user ratings songs from the Rolling Stone top 20.\n",
    "# 1\t\tBob Dylan - Like a Rolling Stone\n",
    "# 2\t\tThe Rolling Stones - Satisfaction\n",
    "# 3\t\tJohn Lennon - Imagine\n",
    "# 4\t\tMarvin Gaye - What's Going On\n",
    "# 5\t\tAretha Franklin - Respect\n",
    "# 6\t\tThe Beach Boys - Good Vibrations\n",
    "# 7\t\tChuck Berry - Johnny B. Goode\n",
    "# 8\t\tThe Beatles - Hey Jude\n",
    "# 9\t\tNirvana - Smells Like Teen Spirit\n",
    "# 10\tRay Charles - What'd I Say (Parts 1 And 2)\n",
    "# 11\tThe Who - My Generation\n",
    "# 12\tSam Cooke - A Change Is Gonna Come\n",
    "# 13\tThe Beatles - Yesterday\n",
    "# 14\tBob Dylan - Blowin' in the Wind\n",
    "# 15\tThe Clash - London Calling\n",
    "# 16\tThe Beatles - I Want to Hold Your Hand\n",
    "# 17\tJimi Hendrix - Purple Haze\n",
    "# 18\tChuck Berry - Maybellene\n",
    "# 19\tElvis Presley - Hound Dog\n",
    "# 20\tThe Beatles - Let It Be\n",
    "\n",
    "# The rating is on a scale from 1 (very bad) to 5 (very good). A 0 means\n",
    "# the entry is missing.\n",
    "\n",
    "# infer the size of the matrix (m x n)\n",
    "[m,n] = np.shape(Rpartial)\n",
    "\n",
    "# Eric likes Jimi Hendrix (song 17), what do you suggest for Eric? \n",
    "# Start by adding the user data of Eric to Rpartial\n",
    "R_Eric = np.array([0, 0, 0, 0, 0, 0, 0, 0, 0, 0, 0, 0, 0, 0, 0, 0, 5, 0, 0, 0,])\n",
    "# Redefine Rpartial (and its dimension)\n",
    "Rpartial = np.vstack((Rpartial,R_Eric))\n",
    "m += 1"
   ]
  },
  {
   "cell_type": "code",
   "execution_count": 46,
   "id": "99a98aa6",
   "metadata": {},
   "outputs": [],
   "source": [
    "## Question 5 (use cvxpy, make sure to use cp. and avoid np.)\n",
    "\n",
    "# Define the decision variables: \n",
    "# Note! X is not symmetric. \n",
    "# Without the 'full' constraint: wrong. \n",
    "        \n",
    "X = \n",
    "Lambda11 = \n",
    "Lambda22 = \n",
    "\n",
    "# Define the objective function:\n",
    "# Note! You cannot always group the Lambda matrices (dimension might differ).\n",
    "obj = \n",
    "\n",
    "# Define the constraints:\n",
    "# Constraints enforcing observed ratings (use Rpartial) \n",
    "# that is, if Rij==0, the value is \"not observed\". \n",
    "constr = []\n",
    "\n",
    "# Define the constraints enforcing the range beween 1 and 5\n",
    "\n",
    "# Define the semidefinite constraint "
   ]
  },
  {
   "cell_type": "code",
   "execution_count": 3,
   "id": "85642773",
   "metadata": {},
   "outputs": [
    {
     "ename": "NameError",
     "evalue": "name 'obj' is not defined",
     "output_type": "error",
     "traceback": [
      "\u001b[0;31m---------------------------------------------------------------------------\u001b[0m",
      "\u001b[0;31mNameError\u001b[0m                                 Traceback (most recent call last)",
      "Cell \u001b[0;32mIn [3], line 6\u001b[0m\n\u001b[1;32m      1\u001b[0m \u001b[38;5;66;03m## Solve the SDP\u001b[39;00m\n\u001b[1;32m      2\u001b[0m \n\u001b[1;32m      3\u001b[0m \u001b[38;5;66;03m# Make sure you have a SDP solver   \u001b[39;00m\n\u001b[1;32m      4\u001b[0m \u001b[38;5;66;03m# 100u20i can take a few minutes (tic-toc measures the time) \u001b[39;00m\n\u001b[1;32m      5\u001b[0m \u001b[38;5;66;03m# Set 'verbose' to 1 if you want to see the progress\u001b[39;00m\n\u001b[0;32m----> 6\u001b[0m prob \u001b[38;5;241m=\u001b[39m cp\u001b[38;5;241m.\u001b[39mProblem(\u001b[43mobj\u001b[49m, constr)\n\u001b[1;32m      7\u001b[0m prob\u001b[38;5;241m.\u001b[39msolve(verbose\u001b[38;5;241m=\u001b[39m\u001b[38;5;28;01mTrue\u001b[39;00m)\n",
      "\u001b[0;31mNameError\u001b[0m: name 'obj' is not defined"
     ]
    }
   ],
   "source": [
    "## Solve the SDP\n",
    "\n",
    "# Make sure you have a SDP solver   \n",
    "# 100u20i can take a few minutes (tic-toc measures the time) \n",
    "# Set 'verbose' to 1 if you want to see the progress\n",
    "prob = cp.Problem(obj, constr)\n",
    "prob.solve(verbose=True)\n"
   ]
  },
  {
   "cell_type": "code",
   "execution_count": 48,
   "id": "fe89c65a",
   "metadata": {},
   "outputs": [
    {
     "name": "stdout",
     "output_type": "stream",
     "text": [
      "[4. 3. 2. 2. 2. 1. 2. 1. 3. 3. 4. 2. 2. 3. 3. 2. 5. 2. 1. 3.]\n"
     ]
    }
   ],
   "source": [
    "# Retrieve and round the optimal solution\n",
    "# Convice yourself of the validity of the rounding. \n",
    "Xopt_real = X.value\n",
    "Xopt_int = \n",
    "\n",
    "# print the recommendation to Eric\n",
    "X_Eric = Xopt_int[m-1,:]\n",
    "print(X_Eric)"
   ]
  }
 ],
 "metadata": {
  "kernelspec": {
   "display_name": "Python 3 (ipykernel)",
   "language": "python",
   "name": "python3"
  },
  "language_info": {
   "codemirror_mode": {
    "name": "ipython",
    "version": 3
   },
   "file_extension": ".py",
   "mimetype": "text/x-python",
   "name": "python",
   "nbconvert_exporter": "python",
   "pygments_lexer": "ipython3",
   "version": "3.8.10"
  }
 },
 "nbformat": 4,
 "nbformat_minor": 5
}
